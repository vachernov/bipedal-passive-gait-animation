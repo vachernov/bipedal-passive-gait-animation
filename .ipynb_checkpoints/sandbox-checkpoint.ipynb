{
 "cells": [
  {
   "cell_type": "code",
   "execution_count": 58,
   "id": "62c379c7",
   "metadata": {},
   "outputs": [],
   "source": [
    "import numpy as np                             # viva numpy!\n",
    "from scipy.integrate import RK45 as integrator # integrator | odeint / RK45\n",
    "import matplotlib.pyplot as plt                # visualization util"
   ]
  },
  {
   "cell_type": "code",
   "execution_count": 138,
   "id": "fa5f4549",
   "metadata": {},
   "outputs": [],
   "source": [
    "def alpha_calc(q): # phi?\n",
    "#     alpha = (1.5*np.pi - phi) - ( q[0] - q[1] )/2 # my calc\n",
    "    \n",
    "    # from Spong\n",
    "#     alpha = ( q[0] - q[1] )/2 \n",
    "\n",
    "    alpha = (2*np.pi) - ( q[0] + q[1] )/2\n",
    "    \n",
    "    return alpha"
   ]
  },
  {
   "cell_type": "markdown",
   "id": "846ffcbd",
   "metadata": {},
   "source": [
    "State-space: \n",
    "$$\n",
    "    q = [ \\theta, \\ \\dot \\theta ]^T = [ \\theta_{ns}, \\theta_{s}, \\ \\dot \\theta_{ns}, \\dot \\theta_{s} ]^T\n",
    "$$\n",
    "\n",
    "The swing stage equations of the robot similar to that of a frictionless double pendulum  can be written as :\n",
    "$$\n",
    "    M(\\theta) \\ddot \\theta + N(\\theta, \\dot \\theta) \\dot \\theta + \\frac{1}{a} g(\\dot \\theta) = 0\n",
    "$$\n",
    "\n",
    "Normalazed peremeters $ \\mu, \\beta $ for matrixes:\n",
    "\n",
    "$$\n",
    "    M(\\theta) =\n",
    "    \\begin{pmatrix}\n",
    "        \\beta^2 & -(1 + \\beta) \\beta \\cos 2 \\alpha \\\\\n",
    "        -(1 + \\beta) \\beta \\cos 2 \\alpha & (1 + \\beta)^2 (\\mu + 1) + 1\n",
    "    \\end{pmatrix}\n",
    "$$"
   ]
  },
  {
   "cell_type": "code",
   "execution_count": 110,
   "id": "df573f3e",
   "metadata": {},
   "outputs": [],
   "source": [
    "def M(q, mu, beta, phi):\n",
    "#     print(q[0], q[1], q[1], q[3])\n",
    "    alpha = alpha_calc(q)\n",
    "    M_11 = beta*beta\n",
    "    M_12 = -(1+beta)*beta*np.cos(2*alpha)\n",
    "    M_21 = M_12\n",
    "    M_22 = (1+beta)*(1+beta)*(mu+1) + 1\n",
    "    return np.array([[M_11, M_12],\n",
    "                     [M_21, M_22]])"
   ]
  },
  {
   "cell_type": "markdown",
   "id": "1888536b",
   "metadata": {},
   "source": [
    "$$\n",
    "    N(\\theta, \\dot \\theta) =\n",
    "    \\begin{pmatrix}\n",
    "        0 & (1 + \\beta) \\beta \\dot \\theta_{ns} sin(\\theta_{s} - \\theta_{ns}) \\\\\n",
    "        -(1 + \\beta) \\beta \\dot \\theta_{ns} sin(\\theta_{s} - \\theta_{ns}) & 0\n",
    "    \\end{pmatrix}\n",
    "$$"
   ]
  },
  {
   "cell_type": "code",
   "execution_count": 3,
   "id": "f43bc269",
   "metadata": {},
   "outputs": [],
   "source": [
    "def N(q, mu, beta):\n",
    "    N_11 = 0\n",
    "    N_12 = (1+beta)*beta*q[2]*np.sin( q[3] - q[2] )\n",
    "    N_21 = -N_12\n",
    "    N_22 = 0\n",
    "    return np.array([[N_11, N_12],\n",
    "                     [N_21, N_22]])"
   ]
  },
  {
   "cell_type": "markdown",
   "id": "6a16a74d",
   "metadata": {},
   "source": [
    "$$\n",
    "    g(\\theta) =\n",
    "    \\begin{pmatrix}\n",
    "        g \\beta \\sin \\theta_{ns}  \\\\\n",
    "        -( (\\mu + 1)(1 + \\beta) ) g \\sin \\theta_{s}\n",
    "    \\end{pmatrix}\n",
    "$$"
   ]
  },
  {
   "cell_type": "code",
   "execution_count": 4,
   "id": "2705a522",
   "metadata": {},
   "outputs": [],
   "source": [
    "def g(q, mu, beta):\n",
    "    _g_const = 9.81\n",
    "    N_11 = _g_const * beta * np.sin( q[0] )\n",
    "    N_21 = -( (mu + 1)*(1 + beta) ) * _g_const * np.sin( q[1] )\n",
    "    return np.array([[N_11],\n",
    "                     [N_21]])"
   ]
  },
  {
   "cell_type": "markdown",
   "id": "e447ab33",
   "metadata": {},
   "source": [
    "$$\n",
    "   - M(\\theta) \\ddot \\theta =  N(\\theta, \\dot \\theta) \\dot \\theta + \\frac{1}{a} g(\\dot \\theta)\n",
    "$$\n",
    "\n",
    "Since $ \\mu \\in [0.1; 10] $ and $ \\beta \\in [0.1; 10] $, $ M(\\theta)^{-1} $ exists, so\n",
    "\n",
    "$$\n",
    "     \\ddot \\theta = - M(\\theta)^{-1} ( N(\\theta, \\dot \\theta) \\dot \\theta + \\frac{1}{a} g(\\dot \\theta) )\n",
    "$$\n",
    "\n",
    "Using $ z = \\dot \\theta $:\n",
    "\n",
    "$$\n",
    "    q = [\\theta, z]\n",
    "$$\n",
    "\n",
    "$$\n",
    "    \\dot q = [z, - M(\\theta)^{-1} ( N(\\theta, z) z + \\frac{1}{a} g(z) ) ]\n",
    "$$"
   ]
  },
  {
   "cell_type": "code",
   "execution_count": 111,
   "id": "e8372a48",
   "metadata": {},
   "outputs": [],
   "source": [
    "def W(q, mu, beta, phi):\n",
    "    alpha = alpha_calc(q)\n",
    "    \n",
    "    Q_m = np.array([[-beta, -beta + ( mu*(1 + beta)*(1 + beta) + 2*(1 + beta)) * np.cos(2*alpha) ],\n",
    "                    [0,     -beta]])\n",
    "    \n",
    "    Q_p = np.array([[beta*( beta - (1 + beta)*np.cos(2*alpha) ), (1 + beta)*( (1 + beta) - beta*np.cos(2*alpha) ) + 1 + mu*(1 + beta)*(1 + beta) ],\n",
    "                    [beta*beta,     -beta]])\n",
    "    \n",
    "    H_a = np.linalg.inv(Q_p) @ Q_m\n",
    "    \n",
    "    J = np.array([[ 0, 1],\n",
    "                  [-1, 0]])\n",
    "    \n",
    "    O = np.zeros([2, 2])\n",
    "    \n",
    "    return np.bmat([[J, O],\n",
    "                    [O, H_a]])\n",
    "#     return H_a"
   ]
  },
  {
   "cell_type": "code",
   "execution_count": 8,
   "id": "8a70e7a9",
   "metadata": {},
   "outputs": [
    {
     "data": {
      "text/plain": [
       "matrix([[ 0.        ,  1.        ,  0.        ,  0.        ],\n",
       "        [-1.        ,  0.        ,  0.        ,  0.        ],\n",
       "        [ 0.        ,  0.        , -0.06323357, -1.28682502],\n",
       "        [ 0.        ,  0.        , -0.06323357, -0.28682502]])"
      ]
     },
     "execution_count": 8,
     "metadata": {},
     "output_type": "execute_result"
    }
   ],
   "source": [
    "W([0.1, 0, 0.4, 0.1], mu=mu, beta=beta, phi=phi)"
   ]
  },
  {
   "cell_type": "code",
   "execution_count": 9,
   "id": "5109c79a",
   "metadata": {},
   "outputs": [],
   "source": [
    "u = W([0.1, 0, 0.4, -0.1], mu=mu, beta=beta, phi=phi) @ np.asarray([[0.1, 0, 0.1, -0.1]]).T"
   ]
  },
  {
   "cell_type": "code",
   "execution_count": 10,
   "id": "88fb0c21",
   "metadata": {},
   "outputs": [
    {
     "data": {
      "text/plain": [
       "matrix([[ 0.        , -0.1       ,  0.12235915,  0.02235915]])"
      ]
     },
     "execution_count": 10,
     "metadata": {},
     "output_type": "execute_result"
    }
   ],
   "source": [
    "u.T"
   ]
  },
  {
   "cell_type": "code",
   "execution_count": 11,
   "id": "cd7c4352",
   "metadata": {},
   "outputs": [
    {
     "data": {
      "text/plain": [
       "array([ 0.        , -0.1       ,  0.12235915,  0.02235915])"
      ]
     },
     "execution_count": 11,
     "metadata": {},
     "output_type": "execute_result"
    }
   ],
   "source": [
    "np.asarray(u.T)[0] "
   ]
  },
  {
   "cell_type": "code",
   "execution_count": 12,
   "id": "edd6c343",
   "metadata": {},
   "outputs": [
    {
     "data": {
      "text/plain": [
       "2.718281828459045"
      ]
     },
     "execution_count": 12,
     "metadata": {},
     "output_type": "execute_result"
    }
   ],
   "source": [
    "np.e"
   ]
  },
  {
   "cell_type": "code",
   "execution_count": 17,
   "id": "3d36d2ec",
   "metadata": {},
   "outputs": [],
   "source": [
    "mu   = 2     # 0.1 ... 10\n",
    "beta = 1     # 0.1 ... 10\n",
    "phi  = 0.0034 # rad\n",
    "l    = 1     # m"
   ]
  },
  {
   "cell_type": "code",
   "execution_count": 124,
   "id": "6fe102ad",
   "metadata": {},
   "outputs": [],
   "source": [
    "# Initial state vector\n",
    "\n",
    "theta_ns_0 =  0.175    # swing leg   (ussually positive)\n",
    "theta_s_0  = -0.175    # support leg\n",
    "dot_theta_ns_0 = -0.2\n",
    "dot_theta_s_0  =  0.15"
   ]
  },
  {
   "cell_type": "code",
   "execution_count": 14,
   "id": "08f1e99c",
   "metadata": {},
   "outputs": [
    {
     "data": {
      "text/plain": [
       "0.015707963267948967"
      ]
     },
     "execution_count": 14,
     "metadata": {},
     "output_type": "execute_result"
    }
   ],
   "source": [
    "np.pi/200"
   ]
  },
  {
   "cell_type": "code",
   "execution_count": 112,
   "id": "ea88eb11",
   "metadata": {},
   "outputs": [],
   "source": [
    "def touch_detector(q, phi):\n",
    "    alpha = alpha_calc(q)\n",
    "    \n",
    "    EPS = 0.05\n",
    "    if abs(q[1] + alpha - 2*np.pi)<EPS : # a\n",
    "#     if abs( (q[0] + q[1])/2 - phi )<EPS and ( abs(alpha)<EPS or (abs(alpha)-2*np.pi)<EPS ): # b\n",
    "        return 1\n",
    "    else:\n",
    "        return 0"
   ]
  },
  {
   "cell_type": "code",
   "execution_count": 149,
   "id": "1530dc93",
   "metadata": {
    "scrolled": false
   },
   "outputs": [
    {
     "name": "stdout",
     "output_type": "stream",
     "text": [
      "zero crossing at 2.5226242377492367\n",
      "before:  [-0.16086761 -6.45104454  0.75815019  1.46275662]\n",
      "after:  [-6.45104454  0.16086761 -0.18158027  1.28117635]\n",
      "z:  [[-0.18158027]\n",
      " [ 1.28117635]]\n"
     ]
    },
    {
     "data": {
      "image/png": "[encoded data removed]",
      "text/plain": [
       "<Figure size 432x288 with 1 Axes>"
      ]
     },
     "metadata": {
      "needs_background": "light"
     },
     "output_type": "display_data"
    }
   ],
   "source": [
    "switch_flag = False\n",
    "last_switch_time = -1.\n",
    "def dyn_sys(t, x):\n",
    "    global switch_flag, last_switch_time\n",
    "#     print(x.T[0])\n",
    "    q = x.T[0]\n",
    "    \n",
    "    if (switch_flag==False) and (t>2.5):\n",
    "#     if touch_detector(q, phi) and (t - last_switch_time) > 0.0125:\n",
    "        print(\"zero crossing at \" + str(t))\n",
    "        _W = W(q, mu=mu, beta=beta, phi=phi)\n",
    "        \n",
    "        print('before: ', q)\n",
    "        q = (_W @ np.asarray([q]).T)\n",
    "        q = np.asarray(q.T)[0]\n",
    "        print('after: ', q)\n",
    "        \n",
    "        switch_flag = True\n",
    "        last_switch_time = t\n",
    "        \n",
    "        w = M(q, mu=mu, beta=beta, phi=phi)\n",
    "        _M_inv = np.linalg.inv( w )\n",
    "        _N = N(q, mu=mu, beta=beta)\n",
    "        _g = g(q, mu=mu, beta=beta)\n",
    "\n",
    "        a_inv = (1+beta)/l\n",
    "\n",
    "        z = np.array([[q[2]],\n",
    "                      [q[3]]])\n",
    "        z_dot = _M_inv @ ( _N @ z + a_inv*_g ) \n",
    "        \n",
    "        print('z: ', z)\n",
    "\n",
    "        return np.array([[z],\n",
    "                         [z_dot]]).T\n",
    "    else:\n",
    "#         pass\n",
    "        w = M(q, mu=mu, beta=beta, phi=phi)\n",
    "        _M_inv = np.linalg.inv( w )\n",
    "        _N = N(q, mu=mu, beta=beta)\n",
    "        _g = g(q, mu=mu, beta=beta)\n",
    "\n",
    "        a_inv = (1+beta)/l\n",
    "\n",
    "        z = np.array([[q[2]],\n",
    "                      [q[3]]])\n",
    "        z_dot = _M_inv @ ( _N @ z + a_inv*_g ) \n",
    "\n",
    "        return np.array([[z],\n",
    "                         [z_dot]]).T\n",
    "\n",
    "t_upper = 3.5\n",
    "t_lower = 0.\n",
    "initial_state = np.array([theta_ns_0, theta_s_0, dot_theta_ns_0, dot_theta_s_0])\n",
    "\n",
    "# x' = f(t, x)\n",
    "solution = integrator(fun=dyn_sys, t0=t_lower, y0=initial_state, t_bound=t_upper, max_step=0.1, vectorized=True)\n",
    "\n",
    "# collect data\n",
    "t_values = []\n",
    "q_ns_values = []\n",
    "q_s_values  = []\n",
    "q_ns_dot_values = []\n",
    "q_s_dot_values  = []\n",
    "alpha_values = [] \n",
    "test_values = []\n",
    "zero_crossing_values = []\n",
    "for i in range(1000):\n",
    "    # get solution step state\n",
    "    solution.step()\n",
    "    \n",
    "    # collect state stamps\n",
    "    t_values.append(solution.t)\n",
    "    q_ns_values.append(solution.y[0])\n",
    "    q_s_values.append(solution.y[1])\n",
    "    q_ns_dot_values.append(solution.y[2])\n",
    "    q_s_dot_values.append(solution.y[2])\n",
    "    \n",
    "    # reconstruct alpha \n",
    "    alpha = alpha_calc(solution.y)\n",
    "    alpha_values.append(alpha)\n",
    "    \n",
    "    # test record\n",
    "    ttt = abs(solution.y[1] + alpha - 2*np.pi)\n",
    "    test_values.append(ttt)\n",
    "    \n",
    "    # zero-crossing\n",
    "    zcd = touch_detector(solution.y, phi)\n",
    "    zero_crossing_values.append(zcd)\n",
    "    \n",
    "    # break loop when modeling is finished\n",
    "    if solution.status == 'finished':\n",
    "        break\n",
    "\n",
    "plt.plot(t_values, q_ns_values, label='theta ns')\n",
    "plt.plot(t_values, q_s_values,  label='theta s')\n",
    "plt.plot(t_values, q_ns_dot_values, label='\\dot theta ns')\n",
    "plt.plot(t_values, q_s_dot_values,  label='\\dot theta s')\n",
    "# plt.plot(t_values, alpha_values, label='alpha')\n",
    "# plt.plot(t, v_values, label='Velocity v')\n",
    "plt.xlabel('Time, s')\n",
    "plt.ylabel('Angular Position / Angular Velocity')\n",
    "plt.legend()\n",
    "plt.title('Compass Biped')\n",
    "plt.show()"
   ]
  },
  {
   "cell_type": "code",
   "execution_count": 146,
   "id": "f0c13ad2",
   "metadata": {},
   "outputs": [
    {
     "data": {
      "image/png": "[encoded data removed]",
      "text/plain": [
       "<Figure size 432x288 with 1 Axes>"
      ]
     },
     "metadata": {
      "needs_background": "light"
     },
     "output_type": "display_data"
    }
   ],
   "source": [
    "plt.plot(t_values, zero_crossing_values, 'r-')\n",
    "plt.title('Zero-crossing moments')\n",
    "plt.show()"
   ]
  },
  {
   "cell_type": "code",
   "execution_count": 150,
   "id": "4007f1ea",
   "metadata": {},
   "outputs": [
    {
     "name": "stdout",
     "output_type": "stream",
     "text": [
      "0.002188268163976659\n"
     ]
    },
    {
     "data": {
      "image/png": "[encoded data removed]",
      "text/plain": [
       "<Figure size 432x288 with 1 Axes>"
      ]
     },
     "metadata": {
      "needs_background": "light"
     },
     "output_type": "display_data"
    }
   ],
   "source": [
    "print(np.min(test_values))\n",
    "\n",
    "plt.plot(t_values, alpha_values, 'r-')\n",
    "# plt.plot(t_values, q_s_values,  'b-')\n",
    "# plt.plot(t_values, test_values, 'g-')\n",
    "plt.xlabel('Time, s')\n",
    "plt.ylabel('alpha')\n",
    "plt.title('Alpha')\n",
    "plt.show()"
   ]
  },
  {
   "cell_type": "code",
   "execution_count": 151,
   "id": "94bedc0f",
   "metadata": {},
   "outputs": [
    {
     "data": {
      "image/png": "[encoded data removed]",
      "text/plain": [
       "<Figure size 432x288 with 1 Axes>"
      ]
     },
     "metadata": {
      "needs_background": "light"
     },
     "output_type": "display_data"
    }
   ],
   "source": [
    "plt.plot(q_ns_values, q_ns_dot_values, 'b-')\n",
    "plt.xlabel('theta ns')\n",
    "plt.ylabel('\\dot theta ns')\n",
    "plt.title('Limit cycle for compass gait biped')\n",
    "plt.show()"
   ]
  },
  {
   "cell_type": "code",
   "execution_count": null,
   "id": "755dfa11",
   "metadata": {},
   "outputs": [],
   "source": [
    "f(0, np.array([1, 0, 0, 0]))"
   ]
  },
  {
   "cell_type": "code",
   "execution_count": null,
   "id": "e1b2bfd3",
   "metadata": {},
   "outputs": [],
   "source": [
    "x = np.array([1, 0, 0, 0])\n",
    "_M_inv = np.linalg.inv( M(x, mu=mu, beta=beta, phi=phi) )\n",
    "_N = N(x, mu=mu, beta=beta)\n",
    "_g = g(x, mu=mu, beta=beta)\n",
    "\n",
    "a_inv = (1+beta)/l\n",
    "\n",
    "z = np.array([[x[2]],\n",
    "              [x[3]]])\n",
    "z_dot = _M_inv @ ( _N @ z + a_inv*_g ) "
   ]
  },
  {
   "cell_type": "code",
   "execution_count": null,
   "id": "e0e302ce",
   "metadata": {},
   "outputs": [],
   "source": [
    " np.linalg.inv( M(np.array([1, 0, 0.1, 0.1]), mu=mu, beta=beta, phi=phi) )"
   ]
  },
  {
   "cell_type": "code",
   "execution_count": 45,
   "id": "d4a6b5fc",
   "metadata": {},
   "outputs": [
    {
     "data": {
      "image/png": "[encoded data removed]",
      "text/plain": [
       "<Figure size 432x288 with 2 Axes>"
      ]
     },
     "metadata": {},
     "output_type": "display_data"
    }
   ],
   "source": [
    "from IPython import display\n",
    "\n",
    "plt.ion()\n",
    "\n",
    "def plot_durations(y):\n",
    "    plt.figure(2)\n",
    "    plt.clf()\n",
    "    plt.subplot(211)\n",
    "    plt.plot(y[:,0])\n",
    "    plt.subplot(212)\n",
    "    plt.plot(y[:,1])\n",
    "\n",
    "    if True: #is_ipython:\n",
    "        display.clear_output(wait=True)\n",
    "        display.display(plt.gcf())\n",
    "        \n",
    "x = np.linspace(-10,10,100)\n",
    "y = []\n",
    "for i in range(len(x)):\n",
    "    y1 = np.cos(i/(3*3.14))\n",
    "    y2 = np.sin(i/(3*3.14))\n",
    "    y.append(np.array([y1,y2]))\n",
    "    plot_durations(np.array(y))\n",
    "\n",
    "plt.ioff() \n",
    "plt.close()"
   ]
  },
  {
   "cell_type": "code",
   "execution_count": 152,
   "id": "9a587417",
   "metadata": {},
   "outputs": [
    {
     "name": "stdout",
     "output_type": "stream",
     "text": [
      "zero crossing at 0.05330242008031713\n",
      "restarted at state:  [ 0.06845254 -0.1663078   0.01141823  0.21014876]\n",
      "zero crossing at 0.18591448796491875\n",
      "restarted at state:  [ 0.07546164 -0.07368581 -0.0085328   0.20861688]\n",
      "zero crossing at 0.3137400204842173\n",
      "restarted at state:  [ 0.0766612  -0.07613402 -0.00495453  0.1857424 ]\n",
      "zero crossing at 0.43886717483591114\n",
      "restarted at state:  [ 0.07804445 -0.07760362 -0.00476586  0.16340133]\n",
      "zero crossing at 0.5684152795960233\n",
      "restarted at state:  [ 0.07990457 -0.07889107 -0.00423443  0.13917153]\n",
      "zero crossing at 0.6963856871854718\n",
      "restarted at state:  [ 0.08172147 -0.08061791 -0.00363353  0.1149752 ]\n",
      "zero crossing at 0.8239385972683526\n",
      "restarted at state:  [ 0.08344406 -0.08231    -0.00300978  0.09126335]\n",
      "zero crossing at 0.9507150473853593\n",
      "restarted at state:  [ 0.08500242 -0.08391327 -0.00237031  0.0684038 ]\n",
      "zero crossing at 1.0761015023791571\n",
      "restarted at state:  [ 0.08625531 -0.08535988 -0.0017355   0.04702132]\n",
      "zero crossing at 1.2208566599424118\n",
      "restarted at state:  [ 0.0854073  -0.08647699 -0.0012133   0.03309945]\n",
      "zero crossing at 1.3518049756836694\n",
      "restarted at state:  [ 9.14345645e-02 -8.58089831e-02 -6.39598762e-05 -1.64727129e-02]\n",
      "zero crossing at 1.4817354908099465\n",
      "restarted at state:  [ 0.09317792 -0.09141457  0.00107149 -0.03991352]\n",
      "zero crossing at 1.617177407737675\n",
      "restarted at state:  [ 0.0888488  -0.09317089  0.00118419 -0.04403613]\n",
      "zero crossing at 1.746430134958584\n",
      "restarted at state:  [ 0.09467955 -0.08863242  0.00273235 -0.0902183 ]\n",
      "zero crossing at 1.8739763806051042\n",
      "restarted at state:  [ 0.09588709 -0.09444753  0.003563   -0.1098097 ]\n",
      "zero crossing at 2.021322714396635\n",
      "restarted at state:  [ 0.09557209 -0.09566712  0.00397701 -0.12220708]\n",
      "zero crossing at 2.148995250384745\n",
      "restarted at state:  [ 0.0956032  -0.09530112  0.00441985 -0.13486386]\n",
      "zero crossing at 2.2805426659499974\n",
      "restarted at state:  [ 0.10262898 -0.0943838   0.00757878 -0.197543  ]\n",
      "zero crossing at 2.4134051752593506\n",
      "restarted at state:  [ 0.10470583 -0.10213815  0.00829805 -0.21770726]\n",
      "zero crossing at 2.5401096616842596\n",
      "restarted at state:  [ 0.10665713 -0.10415678  0.00926898 -0.23486612]\n",
      "zero crossing at 2.6669293955408984\n",
      "restarted at state:  [ 0.1087536  -0.10609128  0.01024711 -0.25175644]\n",
      "zero crossing at 2.794045963724615\n",
      "restarted at state:  [ 0.11102615 -0.10817223  0.01129621 -0.268505  ]\n",
      "zero crossing at 2.9214783152458357\n",
      "restarted at state:  [ 0.11350035 -0.11043867  0.01242385 -0.285118  ]\n",
      "zero crossing at 3.0492212739010776\n",
      "restarted at state:  [ 0.11620122 -0.11291763  0.01364301 -0.30157285]\n",
      "0.32509899660913544\n"
     ]
    },
    {
     "data": {
      "image/png": "[encoded data removed]",
      "text/plain": [
       "<Figure size 432x288 with 1 Axes>"
      ]
     },
     "metadata": {
      "needs_background": "light"
     },
     "output_type": "display_data"
    }
   ],
   "source": [
    "switch_flag = False\n",
    "last_switch_time = -1.\n",
    "def dyn_sys(t, x):\n",
    "    global switch_flag, last_switch_time\n",
    "#     print(x.T[0])\n",
    "    q = x.T[0]\n",
    "    \n",
    "#     if (switch_flag==False) and (t>2.5) and (t<2.51):\n",
    "    if touch_detector(q, phi) and (t - last_switch_time) > 0.125:\n",
    "        print(\"zero crossing at \" + str(t))\n",
    "        \n",
    "        switch_flag = True\n",
    "        last_switch_time = t\n",
    "\n",
    "        return q\n",
    "    else:\n",
    "        w = M(q, mu=mu, beta=beta, phi=phi)\n",
    "        _M_inv = np.linalg.inv( w )\n",
    "        _N = N(q, mu=mu, beta=beta)\n",
    "        _g = g(q, mu=mu, beta=beta)\n",
    "\n",
    "        a_inv = (1+beta)/l\n",
    "\n",
    "        z = np.array([[q[2]],\n",
    "                      [q[3]]])\n",
    "        z_dot = _M_inv @ ( _N @ z + a_inv*_g ) \n",
    "\n",
    "        return np.array([[z],\n",
    "                         [z_dot]]).T\n",
    "\n",
    "t_upper = 3.15\n",
    "t_lower = 0.\n",
    "initial_state = np.array([theta_ns_0, theta_s_0, dot_theta_ns_0, dot_theta_s_0])\n",
    "\n",
    "# x' = f(t, x)\n",
    "# solution = integrator(fun=dyn_sys, t0=t_lower, y0=initial_state, t_bound=t_upper, max_step=0.1, vectorized=True)\n",
    "\n",
    "# collect data\n",
    "t_values = []\n",
    "q_ns_values = []\n",
    "q_s_values  = []\n",
    "q_ns_dot_values = []\n",
    "q_s_dot_values  = []\n",
    "alpha_values = [] \n",
    "test_values = []\n",
    "zero_crossing_values = []\n",
    "\n",
    "solution = integrator(fun=dyn_sys, t0=t_lower, y0=initial_state, t_bound=t_upper, max_step=0.1, vectorized=True)\n",
    "while True:\n",
    "    # get solution step state\n",
    "    solution.step()\n",
    "    \n",
    "    # collect state stamps\n",
    "    t_values.append(solution.t)\n",
    "    q_ns_values.append(solution.y[0])\n",
    "    q_s_values.append(solution.y[1])\n",
    "    q_ns_dot_values.append(solution.y[2])\n",
    "    q_s_dot_values.append(solution.y[2])\n",
    "    \n",
    "    # reconstruct alpha \n",
    "    alpha = alpha_calc(solution.y)\n",
    "    alpha_values.append(alpha)\n",
    "    \n",
    "    # test record\n",
    "    ttt = abs(solution.y[1] + alpha - 2*np.pi)\n",
    "    test_values.append(ttt)\n",
    "    \n",
    "    # zero-crossing\n",
    "    zcd = touch_detector(solution.y, phi)\n",
    "    zero_crossing_values.append(zcd)\n",
    "    \n",
    "    # restart solver on discontinious region\n",
    "    if switch_flag == True:\n",
    "        q = solution.y\n",
    "        _W = W(q, mu=mu, beta=beta, phi=phi)\n",
    "        q = (_W @ np.asarray([q]).T)\n",
    "        q = np.asarray(q.T)[0]\n",
    "        \n",
    "#         print('is it? ', q)\n",
    "        \n",
    "        solution = integrator(fun=dyn_sys, t0=solution.t, y0=q, t_bound=t_upper, max_step=0.25, vectorized=True)\n",
    "        \n",
    "        switch_flag = False\n",
    "        print('restarted at state: ', q)\n",
    "#         break\n",
    "\n",
    "    # break loop if solution is unstable\n",
    "    if np.linalg.norm( solution.y ) > 180:\n",
    "        break\n",
    "        \n",
    "    # break loop when modeling is finished\n",
    "    if solution.status == 'finished':\n",
    "        break\n",
    "\n",
    "print( np.linalg.norm( solution.y ) ) \n",
    "\n",
    "plt.plot(t_values, q_ns_values, label='theta ns')\n",
    "plt.plot(t_values, q_s_values,  label='theta s')\n",
    "plt.plot(t_values, q_ns_dot_values, label='\\dot theta ns')\n",
    "plt.plot(t_values, q_s_dot_values,  label='\\dot theta s')\n",
    "# plt.plot(t_values, alpha_values, label='alpha')\n",
    "# plt.plot(t, v_values, label='Velocity v')\n",
    "plt.xlabel('Time, s')\n",
    "plt.ylabel('Angular Position / Angular Velocity')\n",
    "plt.legend()\n",
    "plt.title('Coupled Differential Equations: Simple Harmonic Oscillator with Damping')\n",
    "plt.show()"
   ]
  },
  {
   "cell_type": "code",
   "execution_count": 153,
   "id": "f1655c45",
   "metadata": {},
   "outputs": [
    {
     "data": {
      "image/png": "[encoded data removed]",
      "text/plain": [
       "<Figure size 432x288 with 1 Axes>"
      ]
     },
     "metadata": {
      "needs_background": "light"
     },
     "output_type": "display_data"
    }
   ],
   "source": [
    "plt.plot(q_ns_values, q_ns_dot_values, 'b-')\n",
    "plt.xlabel('theta ns')\n",
    "plt.ylabel('\\dot theta ns')\n",
    "plt.title('Limit cycle for compass gait biped')\n",
    "plt.show()"
   ]
  }
 ],
 "metadata": {
  "celltoolbar": "Raw Cell Format",
  "kernelspec": {
   "display_name": "Python 3 (ipykernel)",
   "language": "python",
   "name": "python3"
  },
  "language_info": {
   "codemirror_mode": {
    "name": "ipython",
    "version": 3
   },
   "file_extension": ".py",
   "mimetype": "text/x-python",
   "name": "python",
   "nbconvert_exporter": "python",
   "pygments_lexer": "ipython3",
   "version": "3.9.0"
  }
 },
 "nbformat": 4,
 "nbformat_minor": 5
}
